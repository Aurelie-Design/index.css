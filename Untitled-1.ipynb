{
 "cells": [
  {
   "cell_type": "code",
   "execution_count": null,
   "metadata": {},
   "outputs": [],
   "source": []
  },
  {
   "cell_type": "code",
   "execution_count": null,
   "metadata": {},
   "outputs": [],
   "source": [
    "<!DOCTYPE html>  \n",
    "<html lang=\"fr\">  \n",
    "<head>  \n",
    "    <meta charset=\"UTF-8\">  \n",
    "    <meta name=\"viewport\" content=\"width=device-width, initial-scale=1.0\">  \n",
    "    <title>Mon Prototype</title>  \n",
    "    <link rel=\"stylesheet\" href=\"style.css\"> <!-- Lien vers le fichier CSS -->  \n",
    "</head>  \n",
    "<body>  \n",
    "    <h1>Bienvenue sur mon prototype !</h1>  \n",
    "    <p>Ceci est un paragraph d'exemple.</p>  \n",
    "    <button class=\"button\">Cliquez ici</button>  \n",
    "</body>  \n",
    "</html>"
   ]
  },
  {
   "cell_type": "code",
   "execution_count": null,
   "metadata": {},
   "outputs": [],
   "source": [
    "body {  \n",
    "    font-family: Arial, sans-serif;  \n",
    "    background-color: #f7f7f7;  \n",
    "}  \n",
    "\n",
    "h1 {  \n",
    "    color: #333;  \n",
    "}  \n",
    "\n",
    ".button {  \n",
    "    background-color: #008CBA;  \n",
    "    color: white;  \n",
    "    padding: 10px 15px;  \n",
    "    border: none;  \n",
    "    border-radius: 5px;  \n",
    "    cursor: pointer;  \n",
    "}  \n",
    "\n",
    ".button:hover {  \n",
    "    background-color: #005f6b;  \n",
    "}"
   ]
  }
 ],
 "metadata": {
  "language_info": {
   "name": "python"
  }
 },
 "nbformat": 4,
 "nbformat_minor": 2
}
